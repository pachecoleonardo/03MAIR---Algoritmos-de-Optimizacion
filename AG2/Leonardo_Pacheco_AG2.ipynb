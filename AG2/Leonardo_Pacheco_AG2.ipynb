{
  "nbformat": 4,
  "nbformat_minor": 0,
  "metadata": {
    "colab": {
      "name": "Leonardo Pacheco AG2.ipynb",
      "version": "0.3.2",
      "provenance": [],
      "include_colab_link": true
    },
    "kernelspec": {
      "name": "python3",
      "display_name": "Python 3"
    }
  },
  "cells": [
    {
      "cell_type": "markdown",
      "metadata": {
        "id": "view-in-github",
        "colab_type": "text"
      },
      "source": [
        "<a href=\"https://colab.research.google.com/github/pachecoleonardo/03MAIR---Algoritmos-de-Optimizacion/blob/master/AG2/Leonardo_Pacheco_AG2.ipynb\" target=\"_parent\"><img src=\"https://colab.research.google.com/assets/colab-badge.svg\" alt=\"Open In Colab\"/></a>"
      ]
    },
    {
      "metadata": {
        "id": "uNA1SH4cvK2r",
        "colab_type": "code",
        "colab": {}
      },
      "cell_type": "code",
      "source": [
        "from time import time\n",
        "def calcular_tiempo(f):\n",
        "  \n",
        "    def wrapper(*args, **kwargs):\n",
        "      inicio = time()\n",
        "      resultado = f(*args, **kwargs)\n",
        "      tiempo =float(time() - inicio)\n",
        "      print(\"\\r\\n Tiempo de ejecución para algortimo: \"+\"{0:.25f}\".format(tiempo))\n",
        "      return resultado\n",
        "    \n",
        "    return wrapper"
      ],
      "execution_count": 0,
      "outputs": []
    },
    {
      "metadata": {
        "id": "2hMZsggYvSc1",
        "colab_type": "text"
      },
      "cell_type": "markdown",
      "source": [
        "Leonardo Pacheco -AG2 <br>\n",
        "Actividad Guiada 2 <br>\n",
        "Url:https://github.com/pachecoleonardo/03MAIR---Algoritmos-de-Optimizacion/tree/master/AG2"
      ]
    },
    {
      "metadata": {
        "id": "1apF1y6PxlT8",
        "colab_type": "code",
        "colab": {
          "base_uri": "https://localhost:8080/",
          "height": 54
        },
        "outputId": "2d959428-348c-46cf-9262-22285011235d"
      },
      "cell_type": "code",
      "source": [
        "import random\n",
        "import math\n",
        "\n",
        "N=100\n",
        "LISTA_2D = [ (random.randrange(1,N*10), random.randrange(1,N*10))for _ in range(N)]\n",
        "print(LISTA_2D)"
      ],
      "execution_count": 9,
      "outputs": [
        {
          "output_type": "stream",
          "text": [
            "[(382, 215), (772, 934), (126, 724), (244, 125), (315, 574), (306, 148), (967, 800), (211, 347), (413, 64), (698, 463), (166, 23), (723, 633), (656, 457), (316, 983), (120, 347), (307, 722), (223, 712), (948, 743), (376, 560), (497, 618), (479, 321), (416, 416), (305, 758), (135, 763), (280, 456), (649, 348), (947, 329), (870, 262), (269, 587), (509, 239), (699, 458), (101, 218), (98, 105), (395, 278), (248, 812), (611, 181), (792, 689), (144, 888), (416, 322), (460, 312), (503, 599), (43, 149), (694, 339), (569, 542), (853, 819), (714, 728), (51, 287), (508, 640), (928, 74), (823, 725), (24, 376), (383, 31), (804, 906), (304, 990), (211, 48), (830, 693), (73, 708), (390, 197), (558, 877), (33, 194), (322, 178), (598, 315), (214, 715), (659, 255), (227, 133), (470, 159), (917, 442), (458, 748), (961, 901), (945, 306), (110, 588), (925, 924), (584, 502), (565, 111), (905, 479), (763, 325), (311, 178), (167, 480), (357, 639), (701, 924), (222, 103), (213, 347), (361, 95), (574, 875), (131, 274), (521, 890), (838, 26), (987, 916), (142, 230), (706, 389), (452, 762), (739, 630), (418, 722), (965, 34), (677, 310), (621, 805), (939, 530), (756, 208), (434, 548), (743, 660)]\n"
          ],
          "name": "stdout"
        }
      ]
    },
    {
      "metadata": {
        "id": "QRlxjiapvX2v",
        "colab_type": "code",
        "colab": {
          "base_uri": "https://localhost:8080/",
          "height": 34
        },
        "outputId": "7321a918-623e-4d04-a532-1aa3ccbafecf"
      },
      "cell_type": "code",
      "source": [
        "def distancia(A,B):\n",
        "  if type(A) is int or type(A) is float:\n",
        "    return abs(B-A)\n",
        "  else:\n",
        "    return math.sqrt(sum([   (A[i]-B[i])**2 for i in range(len(A)) ]))\n",
        "  \n",
        "distancia((1,3), (2,5))"
      ],
      "execution_count": 10,
      "outputs": [
        {
          "output_type": "execute_result",
          "data": {
            "text/plain": [
              "2.23606797749979"
            ]
          },
          "metadata": {
            "tags": []
          },
          "execution_count": 10
        }
      ]
    },
    {
      "metadata": {
        "id": "zhfuu7DmzdQf",
        "colab_type": "code",
        "colab": {
          "base_uri": "https://localhost:8080/",
          "height": 34
        },
        "outputId": "403d0265-b509-4309-f274-e69a6f45ced5"
      },
      "cell_type": "code",
      "source": [
        "#Fuerza Bruta\n",
        "def distancia_fuerza_bruta(L):\n",
        "  mejor_distancia = 100000e10\n",
        "  \n",
        "  A,B = (),()\n",
        "  \n",
        "  for i in range(len(L)):\n",
        "    for j in range(i+1, len(L)):\n",
        "      if distancia(L[i],L[j]) < mejor_distancia:\n",
        "                A,B=L[i],L[j]\n",
        "                mejor_distancia =distancia(L[i],L[j])\n",
        "  return [A,B]\n",
        "                \n",
        "distancia_fuerza_bruta(LISTA_2D)              \n",
        "  "
      ],
      "execution_count": 14,
      "outputs": [
        {
          "output_type": "execute_result",
          "data": {
            "text/plain": [
              "[(211, 347), (213, 347)]"
            ]
          },
          "metadata": {
            "tags": []
          },
          "execution_count": 14
        }
      ]
    },
    {
      "metadata": {
        "id": "ZpHLBREx2s6J",
        "colab_type": "code",
        "colab": {
          "base_uri": "https://localhost:8080/",
          "height": 68
        },
        "outputId": "63e94773-6e6e-4bc2-9b31-d5ddd779858d"
      },
      "cell_type": "code",
      "source": [
        "def distancia_divide_y_venceras(L):\n",
        "  #Si hay pocos por Fuerza Bruta\n",
        "  if len(L) < 10:\n",
        "    return distancia_fuerza_bruta(L)\n",
        "  \n",
        "  #Dividir en listas grandes\n",
        "  #pivite = sum([L[i][0]for i in range(len(L))]) / len(L)\n",
        " \n",
        "  \n",
        "  LISTA_IZQ = sorted(L, key=lambda x: x[0])[:len(L)//2]\n",
        "  LISTA_DER = sorted(L, key=lambda x: x[0])[len(L)//2:]\n",
        "  \n",
        "  PUNTOS_LISTA_IZQ = distancia_divide_y_venceras(LISTA_IZQ)\n",
        "  PUNTOS_LISTA_DER = distancia_divide_y_venceras(LISTA_DER)\n",
        "  \n",
        "  return distancia_fuerza_bruta(PUNTOS_LISTA_IZQ + PUNTOS_LISTA_DER)\n",
        "\n",
        "@calcular_tiempo\n",
        "def LANZA(L):\n",
        "  return distancia_divide_y_venceras(L)\n",
        "  \n",
        "SOL = LANZA(LISTA_2D[:100])\n",
        "\n",
        "print(SOL)"
      ],
      "execution_count": 33,
      "outputs": [
        {
          "output_type": "stream",
          "text": [
            "\r\n",
            " Tiempo de ejecución para algortimo: 0.0017397403717041015625000\n",
            "[(698, 463), (699, 458)]\n"
          ],
          "name": "stdout"
        }
      ]
    },
    {
      "metadata": {
        "id": "_2ir33cXxkeP",
        "colab_type": "code",
        "colab": {
          "base_uri": "https://localhost:8080/",
          "height": 173
        },
        "outputId": "947928f6-f839-4243-8dce-209d2b256e03"
      },
      "cell_type": "code",
      "source": [
        "TARIFAS = [\n",
        "[0,5,4,3,999,999,999],\n",
        "[999,0,999,2,3,999,11],\n",
        "[999,999, 0,1,999,4,10],\n",
        "[999,999,999, 0,5,6,9],\n",
        "[999,999, 999,999,0,999,4],\n",
        "[999,999, 999,999,999,0,3],\n",
        "[999,999,999,999,999,999,0]\n",
        "]\n",
        "\n",
        "#Paseo por el rio\n",
        "def Precios(TARIFAS):\n",
        "  N =len(TARIFAS[0])\n",
        "  \n",
        "  PRECIOS = [[9999]*N for i in [9999]*N]\n",
        "  RUTAS = [[\"\"]*N for i in [9999]*N ]\n",
        "  \n",
        "  print(PRECIOS)\n",
        "  print(RUTAS)\n",
        "  \n",
        "  for i in range(N-1):\n",
        "    for j in range(i+1,N):\n",
        "      MIN = TARIFAS[i][j]\n",
        "      RUTAS[i][j] = i\n",
        "      \n",
        "      for k in range(i,j):\n",
        "        if PRECIOS[i][k]+ TARIFAS[k][j] < MIN:\n",
        "          MIN = min(MIN, PRECIOS[i][k]+ TARIFAS[k][j])\n",
        "          RUTAS[i][j] = k\n",
        "      PRECIOS[i][j]=MIN\n",
        "      \n",
        "  return PRECIOS, RUTAS\n",
        "    \n",
        "\n",
        "PRECIOS, RUTAS = Precios(TARIFAS)\n",
        "\n",
        "print(PRECIOS)\n",
        "\n",
        "print()\n",
        "\n",
        "print (RUTAS)\n",
        "\n",
        "def calcular_ruta(RUTAS, desde, hasta):\n",
        "  if desde == hasta:\n",
        "    #print(\"Ir a :\" + str(desde))\n",
        "    return desde \n",
        "  else:\n",
        "    return str(calcular_ruta(RUTAS, desde, RUTAS[desde][hasta])) +  ',' + str(RUTAS[desde][hasta]) \n",
        "\n",
        "print(\"\\nLa ruta es:\")  \n",
        "calcular_ruta(RUTAS, 0,6)\n",
        "\n",
        "          "
      ],
      "execution_count": 39,
      "outputs": [
        {
          "output_type": "stream",
          "text": [
            "[[9999, 9999, 9999, 9999, 9999, 9999, 9999], [9999, 9999, 9999, 9999, 9999, 9999, 9999], [9999, 9999, 9999, 9999, 9999, 9999, 9999], [9999, 9999, 9999, 9999, 9999, 9999, 9999], [9999, 9999, 9999, 9999, 9999, 9999, 9999], [9999, 9999, 9999, 9999, 9999, 9999, 9999], [9999, 9999, 9999, 9999, 9999, 9999, 9999]]\n",
            "[['', '', '', '', '', '', ''], ['', '', '', '', '', '', ''], ['', '', '', '', '', '', ''], ['', '', '', '', '', '', ''], ['', '', '', '', '', '', ''], ['', '', '', '', '', '', ''], ['', '', '', '', '', '', '']]\n",
            "[[9999, 5, 4, 3, 8, 8, 11], [9999, 9999, 999, 2, 3, 8, 7], [9999, 9999, 9999, 1, 6, 4, 7], [9999, 9999, 9999, 9999, 5, 6, 9], [9999, 9999, 9999, 9999, 9999, 999, 4], [9999, 9999, 9999, 9999, 9999, 9999, 3], [9999, 9999, 9999, 9999, 9999, 9999, 9999]]\n",
            "\n",
            "[['', 0, 0, 0, 1, 2, 5], ['', '', 1, 1, 1, 3, 4], ['', '', '', 2, 3, 2, 5], ['', '', '', '', 3, 3, 3], ['', '', '', '', '', 4, 4], ['', '', '', '', '', '', 5], ['', '', '', '', '', '', '']]\n",
            "\n",
            "La ruta es:\n"
          ],
          "name": "stdout"
        },
        {
          "output_type": "execute_result",
          "data": {
            "text/plain": [
              "'0,0,2,5'"
            ]
          },
          "metadata": {
            "tags": []
          },
          "execution_count": 39
        }
      ]
    }
  ]
}