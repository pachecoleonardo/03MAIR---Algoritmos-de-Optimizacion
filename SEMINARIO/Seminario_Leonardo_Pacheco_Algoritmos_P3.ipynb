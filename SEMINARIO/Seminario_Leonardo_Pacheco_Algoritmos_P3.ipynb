{
  "nbformat": 4,
  "nbformat_minor": 0,
  "metadata": {
    "colab": {
      "name": "Copia de Seminario_Leonardo_Pacheco - Algoritmos_P3.ipynb",
      "version": "0.3.2",
      "provenance": [],
      "collapsed_sections": [],
      "include_colab_link": true
    },
    "kernelspec": {
      "name": "python3",
      "display_name": "Python 3"
    }
  },
  "cells": [
    {
      "cell_type": "markdown",
      "metadata": {
        "id": "view-in-github",
        "colab_type": "text"
      },
      "source": [
        "<a href=\"https://colab.research.google.com/github/pachecoleonardo/03MAIR---Algoritmos-de-Optimizacion/blob/master/SEMINARIO/Seminario_Leonardo_Pacheco_Algoritmos_P3.ipynb\" target=\"_parent\"><img src=\"https://colab.research.google.com/assets/colab-badge.svg\" alt=\"Open In Colab\"/></a>"
      ]
    },
    {
      "metadata": {
        "id": "hVbXYX-RfPWh",
        "colab_type": "text"
      },
      "cell_type": "markdown",
      "source": [
        "# Algoritmos de optimización - Seminario<br>\n",
        "Nombre y Apellidos: Leonardo Pacheco Garduño   <br>\n",
        "Url: https://github.com/pachecoleonardo/03MAIR---Algoritmos-de-Optimizacion<br>\n",
        "Problema:\n",
        "\n",
        ">3. Combinar cifras y operaciones\n",
        "\n",
        "Descripción del problema:\n",
        "\n",
        "El problema consiste en analizar el siguiente problema y diseñar un algoritmo que lo resuelva.<br>\n",
        "• Disponemos de las 9 cifras del 1 al 9 (excluimos el cero) y de los 4 signos básicos de las\n",
        "operaciones fundamentales: suma(+), resta(-), multiplicación(*) y división(/)<br>\n",
        "• Debemos combinarlos alternativamente sin repetir ninguno de ellos para obtener una\n",
        "cantidad dada. Un ejemplo sería para obtener el 2:\n",
        "\n",
        "(*) La respuesta es obligatoria\n",
        "\n",
        "\n",
        "\n",
        "\n",
        "\n",
        "                                        "
      ]
    },
    {
      "metadata": {
        "id": "AiskKkzZfy4e",
        "colab_type": "code",
        "colab": {}
      },
      "cell_type": "code",
      "source": [
        ""
      ],
      "execution_count": 0,
      "outputs": []
    },
    {
      "metadata": {
        "id": "3_-exlrTgLd-",
        "colab_type": "text"
      },
      "cell_type": "markdown",
      "source": [
        "(*)¿Cuantas posibilidades hay sin tener en cuenta las restricciones?<br>\n",
        "\n",
        "\n",
        "\n",
        "¿Cuantas posibilidades hay teniendo en cuenta todas las restricciones.\n",
        "\n",
        "\n"
      ]
    },
    {
      "metadata": {
        "id": "WfCUqJyKhPcw",
        "colab_type": "text"
      },
      "cell_type": "markdown",
      "source": [
        "Respuesta:\n",
        "\n",
        "Existen nCr(9, 5) x 4! o sea 3024 posibilidades"
      ]
    },
    {
      "metadata": {
        "id": "iq6Fe32MgpDX",
        "colab_type": "code",
        "colab": {}
      },
      "cell_type": "code",
      "source": [
        ""
      ],
      "execution_count": 0,
      "outputs": []
    },
    {
      "metadata": {
        "id": "dzynfVJahHoY",
        "colab_type": "text"
      },
      "cell_type": "markdown",
      "source": [
        "Modelo para el espacio de soluciones<br>\n",
        "(*) ¿Cual es la estructura de datos que mejor se adapta al problema? Argumentalo.(Es posible que hayas elegido una al principio y veas la necesidad de cambiar, arguentalo)\n"
      ]
    },
    {
      "metadata": {
        "id": "xFIJrOwKi2Ti",
        "colab_type": "text"
      },
      "cell_type": "markdown",
      "source": [
        "Respuesta:\n",
        "\n",
        "9-tupla de cifras y signos alternos\n"
      ]
    },
    {
      "metadata": {
        "id": "38c-7-ejhJmA",
        "colab_type": "code",
        "outputId": "eb024d98-abb1-478d-fff3-7aec610ea3e8",
        "colab": {
          "base_uri": "https://localhost:8080/",
          "height": 51
        }
      },
      "cell_type": "code",
      "source": [
        "import random\n",
        "\n",
        "signos = ['*', '/', '+','-']\n",
        "numeros = [1, 2, 3, 4, 5, 6, 7, 8, 9]\n",
        "\n",
        "random.shuffle(numeros)\n",
        "random.shuffle(signos) \n",
        "\n",
        "cuenta = 0\n",
        "\n",
        "expresion = []\n",
        "\n",
        "for numeros_i in numeros:\n",
        "    expresion.append(numeros_i)\n",
        "    cuenta = cuenta + 1\n",
        "    if cuenta == 5:      \n",
        "      expresion2 = (str(expresion[0])+signos[0]+str(expresion[1])+signos[1]+str(expresion[2])+signos[2]+str(expresion[3])+signos[3]+str(expresion[4]))\n",
        "      print(expresion2)\n",
        "print(eval(expresion2))\n"
      ],
      "execution_count": 0,
      "outputs": [
        {
          "output_type": "stream",
          "text": [
            "1+7*5-9/8\n",
            "34.875\n"
          ],
          "name": "stdout"
        }
      ]
    },
    {
      "metadata": {
        "id": "7Z9U2W7bi-XS",
        "colab_type": "text"
      },
      "cell_type": "markdown",
      "source": [
        "Según el modelo para el espacio de soluciones<br>\n",
        "(*)¿Cual es la función objetivo?\n",
        "\n",
        "(*)¿Es un problema de maximización o minimización?"
      ]
    },
    {
      "metadata": {
        "id": "hBalWLM7j1_d",
        "colab_type": "text"
      },
      "cell_type": "markdown",
      "source": [
        "Respuesta:\n",
        "\n",
        "No es un problema de optimización pero podemos evaluar como de lejos estamos\n",
        "\n",
        "\n",
        "No es un problema de maximización ni de minimización"
      ]
    },
    {
      "metadata": {
        "id": "pDA-rg3Gj5Lz",
        "colab_type": "code",
        "colab": {}
      },
      "cell_type": "code",
      "source": [
        ""
      ],
      "execution_count": 0,
      "outputs": []
    },
    {
      "metadata": {
        "id": "rlnTYgY1j6I2",
        "colab_type": "text"
      },
      "cell_type": "markdown",
      "source": [
        "Diseña un algoritmo para resolver el problema por fuerza bruta"
      ]
    },
    {
      "metadata": {
        "id": "70rDgxYXkC8r",
        "colab_type": "text"
      },
      "cell_type": "markdown",
      "source": [
        "Respuesta"
      ]
    },
    {
      "metadata": {
        "id": "FngdTgjnUyJu",
        "colab_type": "code",
        "colab": {}
      },
      "cell_type": "code",
      "source": [
        ""
      ],
      "execution_count": 0,
      "outputs": []
    },
    {
      "metadata": {
        "id": "tgrnsC2nkFa8",
        "colab_type": "text"
      },
      "cell_type": "markdown",
      "source": [
        "Calcula la complejidad del algoritmo por fuerza bruta"
      ]
    },
    {
      "metadata": {
        "id": "9eUd3xwckP68",
        "colab_type": "text"
      },
      "cell_type": "markdown",
      "source": [
        "Respuesta"
      ]
    },
    {
      "metadata": {
        "id": "rvZWwL-ckRST",
        "colab_type": "code",
        "colab": {}
      },
      "cell_type": "code",
      "source": [
        ""
      ],
      "execution_count": 0,
      "outputs": []
    },
    {
      "metadata": {
        "id": "txbrmLmskReM",
        "colab_type": "text"
      },
      "cell_type": "markdown",
      "source": [
        "(*)Diseña un algoritmo que mejore la complejidad del algortimo por fuerza bruta. Argumenta porque crees que mejora el algoritmo por fuerza bruta"
      ]
    },
    {
      "metadata": {
        "id": "hLrVwt5QkZPD",
        "colab_type": "text"
      },
      "cell_type": "markdown",
      "source": [
        "Respuesta"
      ]
    },
    {
      "metadata": {
        "id": "m1eyM21Vkabg",
        "colab_type": "code",
        "colab": {}
      },
      "cell_type": "code",
      "source": [
        ""
      ],
      "execution_count": 0,
      "outputs": []
    },
    {
      "metadata": {
        "id": "eGDB4K6uk1iN",
        "colab_type": "text"
      },
      "cell_type": "markdown",
      "source": [
        "(*)Calcula la complejidad del algoritmo "
      ]
    },
    {
      "metadata": {
        "id": "NhpTh_BPk1ms",
        "colab_type": "text"
      },
      "cell_type": "markdown",
      "source": [
        "Respuesta:\n",
        "\n",
        "O(n^2)"
      ]
    },
    {
      "metadata": {
        "id": "nREzhkStlCq8",
        "colab_type": "code",
        "colab": {}
      },
      "cell_type": "code",
      "source": [
        ""
      ],
      "execution_count": 0,
      "outputs": []
    },
    {
      "metadata": {
        "id": "3M6QjTsSkmYe",
        "colab_type": "text"
      },
      "cell_type": "markdown",
      "source": [
        "Según el problema (y tenga sentido), diseña un juego de datos de entrada aleatorios"
      ]
    },
    {
      "metadata": {
        "id": "Jc3_OlyNkvjZ",
        "colab_type": "text"
      },
      "cell_type": "markdown",
      "source": [
        "Respuesta"
      ]
    },
    {
      "metadata": {
        "id": "sJ-N2etjkyWc",
        "colab_type": "code",
        "colab": {
          "base_uri": "https://localhost:8080/",
          "height": 51
        },
        "outputId": "f68cb7dd-aea4-4d8b-f581-ce7c9bdbee74"
      },
      "cell_type": "code",
      "source": [
        "import random\n",
        "\n",
        "signos = ['*', '/', '+','-']\n",
        "numeros = [1, 2, 3, 4, 5, 6, 7, 8, 9]\n",
        "\n",
        "random.shuffle(numeros)\n",
        "random.shuffle(signos) \n",
        "\n",
        "print(signos)\n",
        "print(numeros)"
      ],
      "execution_count": 2,
      "outputs": [
        {
          "output_type": "stream",
          "text": [
            "['/', '-', '*', '+']\n",
            "[3, 1, 5, 7, 8, 9, 2, 6, 4]\n"
          ],
          "name": "stdout"
        }
      ]
    },
    {
      "metadata": {
        "id": "zy5ZROmjlGo1",
        "colab_type": "text"
      },
      "cell_type": "markdown",
      "source": [
        "Aplica el algoritmo al juego de datos generado"
      ]
    },
    {
      "metadata": {
        "id": "_Cmj-PVylMsa",
        "colab_type": "text"
      },
      "cell_type": "markdown",
      "source": [
        "Respuesta"
      ]
    },
    {
      "metadata": {
        "id": "Jkx8GeiYlUz1",
        "colab_type": "code",
        "colab": {}
      },
      "cell_type": "code",
      "source": [
        ""
      ],
      "execution_count": 0,
      "outputs": []
    },
    {
      "metadata": {
        "colab_type": "text",
        "id": "eTFWUJQrtGcv"
      },
      "cell_type": "markdown",
      "source": [
        "Enumera las referencias que has utilizado(si ha sido necesario) para llevar a cabo el trabajo"
      ]
    },
    {
      "metadata": {
        "id": "YKQ_mRBttWsP",
        "colab_type": "text"
      },
      "cell_type": "markdown",
      "source": [
        "Respuesta:\n",
        "\n",
        "https://stackoverflow.com/questions/2847386/python-string-and-integer-concatenation\n",
        "https://pynative.com/python-random-shuffle/\n",
        "http://lineadecodigo.com/python/iterar-una-lista-en-python-con-indices/\n",
        "https://es.stackoverflow.com/questions/124063/crear-una-lista-de-numeros-aleatorios-en-python\n",
        "http://codigoprogramacion.com/cursos/tutoriales-python/condicionales-if-y-else-en-python.html#.XIc8rSJKhph\n",
        "https://es.wikibooks.org/wiki/Python/Tipos_de_datos_nativos/Presentaci%C3%B3n_de_las_tuplas\n"
      ]
    },
    {
      "metadata": {
        "id": "kAkDPUyRtYyH",
        "colab_type": "text"
      },
      "cell_type": "markdown",
      "source": [
        "Describe brevemente las lineas de como crees que es posible avanzar en el estudio del problema. Ten en cuenta incluso posibles variaciones del problema y/o variaciones al alza del tamaño"
      ]
    },
    {
      "metadata": {
        "id": "IE0uZmo-tZu-",
        "colab_type": "text"
      },
      "cell_type": "markdown",
      "source": [
        "Respuesta"
      ]
    }
  ]
}