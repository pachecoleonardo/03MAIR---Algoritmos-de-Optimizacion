{
 "cells": [
  {
   "cell_type": "code",
   "execution_count": null,
   "metadata": {},
   "outputs": [],
   "source": [
    "import pandas as pd\n",
    "from pandas import ExcelWriter\n",
    "from pandas import ExcelFile\n",
    "\n",
    "grupos_totales=3\n",
    "\n",
    "#Se importa el listado de la población ( muestra con numeros aleatorios en Excel)\n",
    "#respetando las primisas del problema planteado\n",
    "\n",
    "df1 = pd.read_excel('Listado_Muestras.xlsx', sheet_name='Hoja1')\n",
    "df1"
   ]
  },
  {
   "cell_type": "code",
   "execution_count": null,
   "metadata": {},
   "outputs": [],
   "source": [
    "# Acomodo de forma ascendente los valores de la columna 'Peso':\n",
    "df1 = df1.sort_values(by='PESO', ascending=True)\n",
    "df1"
   ]
  },
  {
   "cell_type": "code",
   "execution_count": null,
   "metadata": {},
   "outputs": [],
   "source": [
    "#Realizo el acomodo del ID para mantener de menor a mayor la tabla\n",
    "df1.ID = range(df1.shape[0])\n",
    "df1"
   ]
  },
  {
   "cell_type": "code",
   "execution_count": null,
   "metadata": {},
   "outputs": [],
   "source": [
    "# Ordenar por los valores de la columna 'Peso' para la tabla:\n",
    "tabla = df1.sort_values(by='PESO', ascending=True)"
   ]
  },
  {
   "cell_type": "code",
   "execution_count": null,
   "metadata": {},
   "outputs": [],
   "source": [
    "# Ordenar por los valores de la columna 'Peso' para la tabla2:\n",
    "tabla2 = df1.sort_values(by='PESO', ascending=True)"
   ]
  },
  {
   "cell_type": "code",
   "execution_count": null,
   "metadata": {},
   "outputs": [],
   "source": [
    "# Ordenar por los valores de la columna 'Peso' para la tabla3:\n",
    "tabla3 = df1.sort_values(by='PESO', ascending=True)"
   ]
  },
  {
   "cell_type": "code",
   "execution_count": null,
   "metadata": {},
   "outputs": [],
   "source": [
    "#Realizo la cuenta de cuantos especimenes hay en el archivo para saber de cuantos especimenes van a ser mis grupos\n",
    "\n",
    "cuenta = 0\n",
    "for i in df1.index:\n",
    "    cuenta = cuenta + 1\n",
    "print(cuenta)"
   ]
  },
  {
   "cell_type": "code",
   "execution_count": null,
   "metadata": {},
   "outputs": [],
   "source": [
    "# Realizo la división de los especimenes totales y los grupos totales que de acuerdo al problema son 3\n",
    "muestras = cuenta // grupos_totales\n",
    "print(muestras)"
   ]
  },
  {
   "cell_type": "code",
   "execution_count": null,
   "metadata": {},
   "outputs": [],
   "source": [
    "#Calculo el residuo de la division de los especimenes vs grupos totales\n",
    "sobrante =cuenta % 3\n",
    "print(sobrante)"
   ]
  },
  {
   "cell_type": "code",
   "execution_count": null,
   "metadata": {},
   "outputs": [],
   "source": [
    "#Realizo una comparación de los especimenes para tomar los primeros elementos de la variable \"muestras\"\n",
    "#y agrego una columna para el grupo 1\n",
    "\n",
    "tabla['Grupo_1'] = tabla['ID'].apply(lambda x: 'True' if x <= muestras else 'False')\n",
    "\n",
    "# Ordeno los valores de la columna 'Grupo 1' y elimino, los que estaría fuera del rango de acuerdo a la variable muestras\n",
    "\n",
    "grupo1 = tabla.sort_values(by='Grupo_1', ascending=False)\n",
    "grupo1 = grupo1.drop(grupo1[grupo1.ID >= muestras].index)\n",
    "\n",
    "#Exporto el listado\n",
    "grupo1.to_excel(\"Grupo_1.xlsx\", sheet_name='Grupo_1')\n",
    "\n",
    "#Imprimo la tabla\n",
    "grupo1"
   ]
  },
  {
   "cell_type": "code",
   "execution_count": null,
   "metadata": {},
   "outputs": [],
   "source": [
    "#Realizo una comparación de los especimenes para tomar los primeros elementos de la variable \"muestras\"\n",
    "#y agrego una columna para el grupo 2\n",
    "\n",
    "tabla2['Grupo_2'] = tabla2['ID'].apply(lambda x: 'True' if ((x >= muestras) & (x <=(muestras*2+sobrante))) else 'False')\n",
    "\n",
    "# Ordeno los valores de la columna 'Grupo 2' y elimino los que estaría fuera del rango de acuerdo a la variable muestras\n",
    "\n",
    "grupo2 = tabla2.sort_values(by='Grupo_2', ascending=False)\n",
    "grupo2 = grupo2.drop(grupo2[grupo2.ID < (muestras)].index)\n",
    "grupo2 = grupo2.drop(grupo2[grupo2.ID >= (muestras*2+sobrante)].index)\n",
    "\n",
    "#Exporto el listado\n",
    "grupo2.to_excel(\"Grupo_2.xlsx\", sheet_name='Grupo_2')\n",
    "\n",
    "#Imprimo la tabla\n",
    "grupo2"
   ]
  },
  {
   "cell_type": "code",
   "execution_count": null,
   "metadata": {},
   "outputs": [],
   "source": [
    "#Realizo una comparación de los especimenes para tomar los primeros elementos de la variable \"muestras\"\n",
    "#y agrego una columna para el grupo 3\n",
    "\n",
    "tabla3['Grupo_3'] = tabla3['ID'].apply(lambda x: 'True' if ((x >= muestras*2+sobrante)) else 'False')\n",
    "\n",
    "# Ordeno los valores de la columna 'Grupo 3' y elimino los que estaría fuera del rango de acuerdo a la variable muestras\n",
    "\n",
    "grupo3 = tabla3.sort_values(by='Grupo_3', ascending=False)\n",
    "grupo3 = grupo3.drop(grupo3[grupo3.ID < (muestras*2+sobrante)].index)\n",
    "\n",
    "#Exporto el listado\n",
    "grupo3.to_excel(\"Grupo_3.xlsx\", sheet_name='Grupo_3')\n",
    "\n",
    "#Imprimo la tabla\n",
    "grupo3"
   ]
  },
  {
   "cell_type": "markdown",
   "metadata": {},
   "source": [
    "# De esa manera se realizan los 3 grupos indicados en la actividad con los pesos lo más parecidos."
   ]
  }
 ],
 "metadata": {
  "kernelspec": {
   "display_name": "Python 3",
   "language": "python",
   "name": "python3"
  },
  "language_info": {
   "codemirror_mode": {
    "name": "ipython",
    "version": 3
   },
   "file_extension": ".py",
   "mimetype": "text/x-python",
   "name": "python",
   "nbconvert_exporter": "python",
   "pygments_lexer": "ipython3",
   "version": "3.7.0"
  }
 },
 "nbformat": 4,
 "nbformat_minor": 2
}
